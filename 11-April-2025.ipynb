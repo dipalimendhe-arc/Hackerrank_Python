{
 "cells": [
  {
   "cell_type": "markdown",
   "id": "41d2dc73-ba8f-4d10-aff6-61361cad8413",
   "metadata": {},
   "source": [
    "##### Q.1 Consider a list (list = []). You can perform the following commands:\n",
    "\n",
    "##### i. insert i e: Insert integer  at position i.\n",
    "##### ii. print: Print the list.\n",
    "##### iii. remove e: Delete the first occurrence of integer e.\n",
    "##### iv. append e: Insert integer  at the end of the list.\n",
    "##### v. sort: Sort the list.\n",
    "##### vi. pop: Pop the last element from the list.\n",
    "##### vii. reverse: Reverse the list.\n",
    "##### viii. Initialize your list and read in the value of  followed by  lines of commands where each command will be of the  types listed above. Iterate through each command in order and perform the corresponding operation on your list."
   ]
  },
  {
   "cell_type": "code",
   "execution_count": null,
   "id": "2291b421-5c34-4ded-a371-702c238ac92e",
   "metadata": {},
   "outputs": [],
   "source": [
    "    N = int(input())\n",
    "    l = []\n",
    "    for i in range(0,N):\n",
    "        s = input().split()\n",
    "        if(s[0]==\"insert\"):\n",
    "            l.insert(int(s[1]),int(s[2]))\n",
    "        elif(s[0]==\"print\") :\n",
    "            print(l)\n",
    "        elif(s[0]==\"remove\"):\n",
    "            l.remove(int(s[1]))\n",
    "        elif(s[0]==\"append\"):\n",
    "            l.append(int(s[1]))\n",
    "        elif(s[0]==\"sort\"):\n",
    "            l.sort()\n",
    "        elif(s[0]==\"pop\"):\n",
    "            l.pop()\n",
    "        elif(s[0]==\"reverse\"):\n",
    "            l.reverse()"
   ]
  },
  {
   "cell_type": "markdown",
   "id": "9e67df57-b31e-4be4-abbd-24e20ce70af7",
   "metadata": {},
   "source": [
    "##### Q.2 Given an integer, , and  space-separated integers as input, create a tuple, , of those  integers. Then compute and print the result of .\n",
    "\n",
    "##### Note: hash() is one of the functions in the __builtins__ module, so it need not be imported."
   ]
  },
  {
   "cell_type": "code",
   "execution_count": null,
   "id": "65fe08ef-8b2b-4e65-8201-4786634cc31b",
   "metadata": {},
   "outputs": [],
   "source": [
    "    n = int(input())\n",
    "    integer_list = map(int, input().split())\n",
    "    \n",
    "    a = tuple(integer_list)\n",
    "    print(hash(a))"
   ]
  },
  {
   "cell_type": "markdown",
   "id": "8b9878a2-0b44-46d6-8fa3-b22e655a830d",
   "metadata": {},
   "source": [
    "##### Q.3 Given the names and grades for each student in a class of  students, store them in a nested list and print the name(s) of any student(s) having the second lowest grade.\n",
    "\n",
    "##### Note: If there are multiple students with the second lowest grade, order their names alphabetically and print each name on a new line."
   ]
  },
  {
   "cell_type": "code",
   "execution_count": null,
   "id": "cf081584-ae4a-4117-b169-573353762ea6",
   "metadata": {},
   "outputs": [],
   "source": [
    "    num = []\n",
    "    arr = []\n",
    "    for _ in range(int(input())):\n",
    "        name = input()\n",
    "        score = float(input())\n",
    "        arr.append([name, score])\n",
    "        num.append(score)\n",
    "        \n",
    "    num.sort()\n",
    "    second_min = 0\n",
    "    mini = num[0]\n",
    "    arr.sort()\n",
    "    for i in num:\n",
    "        if i != mini:\n",
    "            second_min = i\n",
    "            break\n",
    "    \n",
    "    for i in arr:\n",
    "        if i[1] == second_min:\n",
    "            \n",
    "            print(i[0])"
   ]
  },
  {
   "cell_type": "markdown",
   "id": "aa4540f2-e30b-4e79-8836-8957b5d2d65c",
   "metadata": {},
   "source": [
    "##### Q.4 You are given a string  and width .\n",
    " ##### Your task is to wrap the string into a paragraph of width .\n",
    "##### __Function Description__\n",
    "##### Complete the wrap function in the editor below.\n",
    "##### wrap has the following parameters:\n",
    "##### string string: a long string\n",
    "##### int max_width: the width to wrap to\n",
    "##### __Returns__\n",
    "##### string: a single string with newline characters ('\\n') where the breaks should be"
   ]
  },
  {
   "cell_type": "code",
   "execution_count": null,
   "id": "8e56539e-15c6-4b96-862a-c3341a873175",
   "metadata": {},
   "outputs": [],
   "source": [
    "import textwrap\n",
    "\n",
    "def wrap(string, max_width):\n",
    "    wrapresult = textwrap.fill(string,max_width)\n",
    "    return wrapresult\n",
    "    \n",
    "\n",
    "if __name__ == '__main__':\n",
    "    string, max_width = input(), int(input())\n",
    "    result = wrap(string, max_width)\n",
    "    print(result)"
   ]
  },
  {
   "cell_type": "markdown",
   "id": "cdd84e5c-2f53-4423-80e3-c910550309c6",
   "metadata": {},
   "source": [
    "##### Q.5 Given an integer,n, print the following values for each integer  from 1 to n :\n",
    "\n",
    "##### i.Decimal\n",
    "##### ii.Octal\n",
    "##### iii.Hexadecimal (capitalized)\n",
    "##### iv.Binary\n",
    "##### v.Function Description\n",
    "\n",
    "##### Complete the print_formatted function in the editor below.\n",
    "##### print_formatted has the following parameters:\n",
    "##### * int number: the maximum value to print\n",
    "\n",
    "##### __Prints__\n",
    "\n",
    "##### The four values must be printed on a single line in the order specified above for each i from 1 to number. Each value should be space-padded to match the width of the binary value of  and the values should be separated by a single space."
   ]
  },
  {
   "cell_type": "code",
   "execution_count": null,
   "id": "c350347c-00e2-4e57-941c-66defa92888e",
   "metadata": {},
   "outputs": [],
   "source": [
    "def print_formatted(number):\n",
    "    # your code goes here\n",
    "    width = len(bin(number)[2:])\n",
    "    for i in range(1, number + 1):\n",
    "        o = oct(i)[2:]\n",
    "        h = hex(i)[2:]\n",
    "        h = h.upper()\n",
    "        b = bin(i)[2:]\n",
    "        d = str(i)\n",
    "        print(f\"{d:>{width}} {o:>{width}} {h:>{width}} {b:>{width}}\")\n",
    "\n",
    "    n = int(input())\n",
    "    print_formatted(n)"
   ]
  }
 ],
 "metadata": {
  "kernelspec": {
   "display_name": "Python 3 (ipykernel)",
   "language": "python",
   "name": "python3"
  },
  "language_info": {
   "codemirror_mode": {
    "name": "ipython",
    "version": 3
   },
   "file_extension": ".py",
   "mimetype": "text/x-python",
   "name": "python",
   "nbconvert_exporter": "python",
   "pygments_lexer": "ipython3",
   "version": "3.12.7"
  }
 },
 "nbformat": 4,
 "nbformat_minor": 5
}
