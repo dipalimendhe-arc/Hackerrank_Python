{
 "cells": [
  {
   "cell_type": "markdown",
   "id": "641910c5-ce47-4f72-b11b-c290b528dcfa",
   "metadata": {},
   "source": [
    "##### Q.1. You are given two integer arrays, A and B of dimensions N X M.\n",
    "##### Your task is to perform the following operations:\n",
    "\n",
    "##### *-Add ( A + B)\n",
    "##### *-Subtract ( A - B)\n",
    "##### *-Multiply ( A * B)\n",
    "##### *-Integer Division( A / B)\n",
    "##### *-Mod ( A % B)\n",
    "##### *-Power( A ** B)"
   ]
  },
  {
   "cell_type": "code",
   "execution_count": null,
   "id": "560c89c4-9526-42f8-bade-d915c1e24859",
   "metadata": {},
   "outputs": [],
   "source": [
    "# Enter your code here. Read input from STDIN. Print output to STDOUT\n",
    "import numpy as np\n",
    "n, m = map(int, input().split())\n",
    "a, b = (np.array([input().split() for _ in range(n)], dtype=int) for _ in range(2))\n",
    "print(a+b)\n",
    "print(a-b)\n",
    "print(a*b)\n",
    "print(a//b)\n",
    "print(a%b)\n",
    "print(a**b)"
   ]
  },
  {
   "cell_type": "markdown",
   "id": "5d00a2a7-4f2d-4f82-be50-bf7a175d6c71",
   "metadata": {},
   "source": [
    "##### Q.2. You are given a 1-D array, A . Your task is to print the floor, ceil and rint of all the elements of .\n",
    "\n",
    "##### __Note__\n",
    "##### In order to get the correct output format, add the line numpy.setprintoptions(legacy='1.13') below the numpy import."
   ]
  },
  {
   "cell_type": "code",
   "execution_count": null,
   "id": "94a74591-b2b1-40d8-be47-9d2725e24dcd",
   "metadata": {},
   "outputs": [],
   "source": [
    "import numpy as np\n",
    "np.set_printoptions(sign=' ')\n",
    "arr = np.array(input().split(),float)\n",
    "print(np.floor(arr))\n",
    "print(np.ceil(arr))\n",
    "print(np.rint(arr))\n"
   ]
  },
  {
   "cell_type": "markdown",
   "id": "dc6e74e6-ed37-479a-8219-78aafb52667c",
   "metadata": {},
   "source": [
    "##### Q.3. You are given a 2-D array with dimensions N X M.\n",
    "##### Your task is to perform the sum tool over axis  and then find the  product of that result."
   ]
  },
  {
   "cell_type": "code",
   "execution_count": null,
   "id": "947c2b6a-bfc9-41a7-ac10-1473523e8482",
   "metadata": {},
   "outputs": [],
   "source": [
    "import numpy as np\n",
    "n, m = map(int, input().split())\n",
    "a = np.array([input().split() for _ in range(n)],int)\n",
    "print(np.prod(np.sum(a, axis = 0), axis = 0))"
   ]
  },
  {
   "cell_type": "markdown",
   "id": "9a83338a-b90a-43ed-b721-37c8d2ed5c53",
   "metadata": {},
   "source": [
    "##### Q.4. You are given a 2-D array with dimensions N X M.Your task is to perform the min function over axis 1 and then find the max of that."
   ]
  },
  {
   "cell_type": "code",
   "execution_count": null,
   "id": "ac5918d1-f972-46fb-a253-89d996066b3a",
   "metadata": {},
   "outputs": [],
   "source": [
    "import numpy as np\n",
    "n, m = map(int, input().split())\n",
    "l = []\n",
    "for _ in range(n):\n",
    "    l.append(list(map(int, input().split())))\n",
    "arr = np.array(l)\n",
    "print(np.max(np.min(arr, axis = 1)))"
   ]
  },
  {
   "cell_type": "markdown",
   "id": "40b0b117-c953-47e4-8565-c42d154c6d7e",
   "metadata": {},
   "source": [
    "##### Q.5. You are given a 2-D array of size N X M.\n",
    "##### Your task is to find:\n",
    "##### 1. The mean along axis 1\n",
    "##### 2. The var along axis 0\n",
    "##### 3. The std along axis None"
   ]
  },
  {
   "cell_type": "code",
   "execution_count": null,
   "id": "34dbe2eb-4160-49ac-88bb-26a0f5aeae44",
   "metadata": {},
   "outputs": [],
   "source": [
    "import numpy as np\n",
    "np.set_printoptions(legacy='1.13')\n",
    "n, m = map(int, input().split())\n",
    "l = []\n",
    "for _ in range(n):\n",
    "    l.append(list(map(int, input().split())))\n",
    "arr = np.array(l)\n",
    "print(np.mean(arr, axis = 1))\n",
    "print(np.var(arr, axis = 0))\n",
    "print(np.std(arr, axis = None))"
   ]
  }
 ],
 "metadata": {
  "kernelspec": {
   "display_name": "Python 3 (ipykernel)",
   "language": "python",
   "name": "python3"
  },
  "language_info": {
   "codemirror_mode": {
    "name": "ipython",
    "version": 3
   },
   "file_extension": ".py",
   "mimetype": "text/x-python",
   "name": "python",
   "nbconvert_exporter": "python",
   "pygments_lexer": "ipython3",
   "version": "3.12.7"
  }
 },
 "nbformat": 4,
 "nbformat_minor": 5
}
