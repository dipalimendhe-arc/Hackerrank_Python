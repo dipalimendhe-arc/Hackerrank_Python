{
 "cells": [
  {
   "cell_type": "markdown",
   "id": "a1d6deb4-d562-4831-9e64-137f59d5a2f2",
   "metadata": {},
   "source": [
    "##### Q.1 You are given an integer, . Your task is to print an alphabet rangoli of size . (Rangoli is a form of Indian folk art based on creation of patterns.)"
   ]
  },
  {
   "cell_type": "code",
   "execution_count": null,
   "id": "0f6e949e-f50b-48e6-94f7-4c86cc770a3e",
   "metadata": {},
   "outputs": [],
   "source": [
    "a = \"abcdefghijklmnopqrstuvwxyz\"\n",
    "\n",
    "def print_rangoli(size):\n",
    "    \n",
    "    lines = []\n",
    "    for row in range(size):\n",
    "        print_ = \"-\".join(a[row:size])\n",
    "        lines.append(print_[::-1] + print_[1:])\n",
    "    width = len(lines[0])\n",
    "    \n",
    "    for row in range(size-1, 0, -1):\n",
    "        print(lines[row].center(width, '-'))\n",
    "        \n",
    "    for row in range(size):\n",
    "        print(lines[row].center(width, '-'))\n",
    "\n",
    "\n",
    "if __name__ == '__main__':\n",
    "    n = int(input())\n",
    "    print_rangoli(n)"
   ]
  },
  {
   "cell_type": "markdown",
   "id": "151400dd-d34a-4d7f-b461-2e601c5ca3fd",
   "metadata": {},
   "source": [
    "##### Q.2.Kevin and Stuart want to play the 'The Minion Game'.\n",
    "\n",
    "##### __Game Rules__\n",
    "\n",
    "##### Both players are given the same string, .\n",
    "##### Both players have to make substrings using the letters of the string .\n",
    "##### Stuart has to make words starting with consonants.\n",
    "##### Kevin has to make words starting with vowels.\n",
    "##### The game ends when both players have made all possible substrings.\n",
    "\n",
    "##### __Scoring__\n",
    "##### A player gets +1 point for each occurrence of the substring in the string .\n",
    "\n",
    "##### __For Example:__\n",
    "##### String  = BANANA\n",
    "##### Kevin's vowel beginning word = ANA\n",
    "##### Here, ANA occurs twice in BANANA. Hence, Kevin will get 2 Points."
   ]
  },
  {
   "cell_type": "code",
   "execution_count": null,
   "id": "ba947daf-660b-428c-acd8-1b654c46f203",
   "metadata": {},
   "outputs": [],
   "source": [
    "def minion_game(string):\n",
    "\n",
    "    # your code goes here\n",
    "    n = len(string)\n",
    "    comb = ((n)*(n+1))/2\n",
    "    count_k = 0\n",
    "    count_s = 0\n",
    "    count_k = sum([len(string[i:]) for i in range(len(string)) if string[i] in \"AEIOU\"])\n",
    "    count_s = comb - count_k\n",
    "    \n",
    "    if count_s == count_k:\n",
    "        print(\"Draw\")\n",
    "    elif count_s > count_k:\n",
    "        print(\"Stuart\", int(count_s) )\n",
    "    else:\n",
    "        print(\"Kevin\", int(count_k))\n",
    "\n",
    "\n",
    "if __name__ == '__main__':\n",
    "    s = input()\n",
    "    minion_game(s)"
   ]
  },
  {
   "cell_type": "markdown",
   "id": "4c9a0c77-58e7-4fe1-b118-6264a274aac4",
   "metadata": {},
   "source": [
    "##### Q.3. Consider the following:\n",
    "\n",
    "##### A string, , of length  where .\n",
    "##### An integer, , where  is a factor of .\n",
    "##### We can split  into  substrings where each subtring, , consists of a contiguous block of  characters in . Then, use each  to create string  such that:\n",
    "\n",
    "##### The characters in  are a subsequence of the characters in .\n",
    "##### Any repeat occurrence of a character is removed from the string such that each character in  occurs exactly once. In other words, if the character at some index  in  occurs at a previous index  in , then do not include the character in string .\n",
    "##### Given  and , print  lines where each line  denotes string .\n",
    "\n",
    "##### __Example__\n",
    "\n",
    "##### There are three substrings of length  to consider: 'AAA', 'BCA' and 'DDE'. The first substring is all 'A' characters, so . The second substring has all distinct characters, so . The third substring has  different characters, so . Note that a subsequence maintains the original order of characters encountered. The order of characters in each subsequence shown is important.\n",
    "\n",
    "##### __Function Description__\n",
    "\n",
    "##### Complete the merge_the_tools function in the editor below.\n",
    "##### merge_the_tools has the following parameters:\n",
    "\n",
    "##### string s: the string to analyze\n",
    "##### int k: the size of substrings to analyze\n",
    "##### __Prints__\n",
    "\n",
    "##### Print each subsequence on a new line. There will be  of them. No return value is expected."
   ]
  },
  {
   "cell_type": "code",
   "execution_count": null,
   "id": "53a819ee-86bc-4480-83a7-6c7b64e65b92",
   "metadata": {},
   "outputs": [],
   "source": [
    "def merge_the_tools(string, k):\n",
    "    # your code goes here\n",
    "    while string: # while string is not None\n",
    "        seen = ''\n",
    "        s = string[0:k]\n",
    "        for c in s:\n",
    "            if c not in seen:\n",
    "                seen += c\n",
    "        print(seen)\n",
    "        string = string[k:]\n",
    "if __name__ == '__main__':\n",
    "    string, k = input(), int(input())\n",
    "    merge_the_tools(string, k)"
   ]
  },
  {
   "cell_type": "markdown",
   "id": "9a366a16-6b53-441d-ab4a-0bc651de2184",
   "metadata": {},
   "source": [
    "##### Q.4. You are given the shape of the array in the form of space-separated integers, each integer representing the size of different dimensions, your task is to print an array of the given shape and integer type using the tools numpy.zeros and numpy.ones."
   ]
  },
  {
   "cell_type": "code",
   "execution_count": null,
   "id": "bd507de8-e684-4909-a419-358673dd082e",
   "metadata": {},
   "outputs": [],
   "source": [
    "import numpy as np\n",
    "\n",
    "l = tuple(map(int,input().split()))  \n",
    " \n",
    "print(np.zeros((l), dtype = np.int))\n",
    "print(np.ones((l), dtype = np.int))"
   ]
  },
  {
   "cell_type": "markdown",
   "id": "0eaae514-055d-4716-9d87-3ae0d967cacf",
   "metadata": {},
   "source": [
    "##### Q.5. Your task is to print an array of size N X M with its main diagonal elements as 1's and 0's everywhere else."
   ]
  },
  {
   "cell_type": "code",
   "execution_count": null,
   "id": "7053e83e-645c-4081-8919-d7dc6d3dcdb0",
   "metadata": {},
   "outputs": [],
   "source": [
    "import numpy as np\n",
    "n,m = map(int,input().split())\n",
    "np.set_printoptions(legacy='1.13')\n",
    "print(np.eye(n,m, k = 0))"
   ]
  }
 ],
 "metadata": {
  "kernelspec": {
   "display_name": "Python 3 (ipykernel)",
   "language": "python",
   "name": "python3"
  },
  "language_info": {
   "codemirror_mode": {
    "name": "ipython",
    "version": 3
   },
   "file_extension": ".py",
   "mimetype": "text/x-python",
   "name": "python",
   "nbconvert_exporter": "python",
   "pygments_lexer": "ipython3",
   "version": "3.12.7"
  }
 },
 "nbformat": 4,
 "nbformat_minor": 5
}
