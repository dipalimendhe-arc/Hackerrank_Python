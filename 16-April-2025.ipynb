{
 "cells": [
  {
   "cell_type": "markdown",
   "id": "003098e7-2fb7-4ba3-9068-08e7756f580d",
   "metadata": {},
   "source": [
    "##### Q.1.itertools.product()\n",
    "##### This tool computes the cartesian product of input iterables.\n",
    "##### It is equivalent to nested for-loops.\n",
    "##### For example, product(A, B) returns the same as ((x,y) for x in A for y in B).\n",
    "##### You are given a two lists A and B. Your task is to compute their cartesian product AXB."
   ]
  },
  {
   "cell_type": "code",
   "execution_count": null,
   "id": "27a45612-4fad-497d-836e-91f33f81838f",
   "metadata": {},
   "outputs": [],
   "source": [
    "from itertools import product\n",
    "\n",
    "input_A = list(map(int, input().split()))\n",
    "input_B = list(map(int, input().split()))\n",
    "\n",
    "print(*list(product(input_A, input_B)))"
   ]
  },
  {
   "cell_type": "markdown",
   "id": "84c7dbd1-022b-4ab3-b998-55ed1094195c",
   "metadata": {},
   "source": [
    "##### Q.2.itertools.permutations(iterable[, r])\n",
    "##### This tool returns successive  length permutations of elements in an iterable.\n",
    "##### If  is not specified or is None, then  defaults to the length of the iterable, and all possible full length permutations are generated.\n",
    "##### Permutations are printed in a lexicographic sorted order. So, if the input iterable is sorted, the permutation tuples will be produced in a sorted order.\n",
    "##### You are given a string S.\n",
    "##### Your task is to print all possible permutations of size k of the string in lexicographic sorted order."
   ]
  },
  {
   "cell_type": "code",
   "execution_count": null,
   "id": "195918fe-8eba-4a5f-9339-98eaffac0681",
   "metadata": {},
   "outputs": [],
   "source": [
    "from itertools import permutations\n",
    "str1, int1 = input().split()\n",
    "\n",
    "for i in sorted(permutations(str1, int(int1))):\n",
    "    print (''.join(i))"
   ]
  },
  {
   "cell_type": "markdown",
   "id": "1aae44fe-2946-4118-aeda-f5964ef3430d",
   "metadata": {},
   "source": [
    "##### Q.3.itertools.combinations(iterable, r)\n",
    "##### This tool returns the r length subsequences of elements from the input iterable.\n",
    "##### Combinations are emitted in lexicographic sorted order. So, if the input iterable is sorted, the combination tuples will be produced in sorted order.\n",
    "##### You are given a string S.\n",
    "##### Your task is to print all possible combinations, up to size k, of the string in lexicographic sorted order."
   ]
  },
  {
   "cell_type": "code",
   "execution_count": null,
   "id": "6c082314-22b1-4623-84a5-c71f1b14402f",
   "metadata": {},
   "outputs": [],
   "source": [
    "from itertools import combinations\n",
    "word , length  = input().split()\n",
    "for i in range(1, int(length)+1):\n",
    "    for j in combinations(sorted(word), i):\n",
    "        print (''.join(j))"
   ]
  },
  {
   "cell_type": "markdown",
   "id": "a0396361-52d0-4a2d-b4c4-677582eff8d3",
   "metadata": {},
   "source": [
    "##### Q.4. This tool returns r length subsequences of elements from the input iterable allowing individual elements to be repeated more than once.\n",
    "##### Combinations are emitted in lexicographic sorted order. So, if the input iterable is sorted, the combination tuples will be produced in sorted order.\n",
    "##### You are given a string S.\n",
    "##### Your task is to print all possible size k replacement combinations of the string in lexicographic sorted order."
   ]
  },
  {
   "cell_type": "code",
   "execution_count": null,
   "id": "c547067c-f0bd-4162-a161-cfc50978bf34",
   "metadata": {},
   "outputs": [],
   "source": [
    "from itertools import combinations_with_replacement\n",
    "s,k = input().split(' ')\n",
    "k = int(k)\n",
    "s = [x for x in s]\n",
    "s.sort()\n",
    "l = list(combinations_with_replacement(s,k))\n",
    "l.sort()\n",
    "for i in l:\n",
    "    s = ''\n",
    "    for k in i:\n",
    "        s+=k\n",
    "    print(s)"
   ]
  },
  {
   "cell_type": "markdown",
   "id": "c64e4943-723d-4159-9f3f-152b81c6d3b5",
   "metadata": {},
   "source": [
    "##### Q.5. In this task, we would like for you to appreciate the usefulness of the groupby() function of itertools . To read more about this function, Check this out .\n",
    "\n",
    "##### You are given a string . Suppose a character 'c' occurs consecutively X times in the string. Replace these consecutive occurrences of the character 'c' with (X,c) in the string.\n",
    "\n",
    "##### For a better understanding of the problem, check the explanation.\n"
   ]
  },
  {
   "cell_type": "code",
   "execution_count": null,
   "id": "fb0dc873-1b14-4922-9bcc-d3245929cdec",
   "metadata": {},
   "outputs": [],
   "source": [
    "S=input()\n",
    "i=1\n",
    "a=[]\n",
    "count=1\n",
    "while i<len(S):\n",
    "    if S[i]==S[i-1]:\n",
    "        count+=1\n",
    "        i+=1\n",
    "    else:\n",
    "        a.append((count,int(S[i-1])))\n",
    "        i+=1\n",
    "        count=1\n",
    "a.append((count,int(S[i-1])))\n",
    "for i in a:\n",
    "    print(i,end=' ')"
   ]
  }
 ],
 "metadata": {
  "kernelspec": {
   "display_name": "Python 3 (ipykernel)",
   "language": "python",
   "name": "python3"
  },
  "language_info": {
   "codemirror_mode": {
    "name": "ipython",
    "version": 3
   },
   "file_extension": ".py",
   "mimetype": "text/x-python",
   "name": "python",
   "nbconvert_exporter": "python",
   "pygments_lexer": "ipython3",
   "version": "3.12.7"
  }
 },
 "nbformat": 4,
 "nbformat_minor": 5
}
