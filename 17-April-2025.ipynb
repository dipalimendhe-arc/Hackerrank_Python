{
 "cells": [
  {
   "cell_type": "markdown",
   "id": "f5b5ffac-b4cd-4285-837f-efe0a36ae8f4",
   "metadata": {},
   "source": [
    "##### Q.1. The itertools module standardizes a core set of fast, memory efficient tools that are useful by themselves or in combination. Together, they form an iterator algebra making it possible to construct specialized tools succinctly and efficiently in pure Python.\n",
    "##### To read more about the functions in this module, check out their documentation here.\n",
    "##### You are given a list of  lowercase English letters. For a given integer , you can select any  indices (assume -based indexing) with a uniform probability from the list.\n",
    "##### Find the probability that at least one of the  indices selected will contain the letter: ''."
   ]
  },
  {
   "cell_type": "code",
   "execution_count": null,
   "id": "3ec7255a-dbee-48ed-a590-c8981214defd",
   "metadata": {},
   "outputs": [],
   "source": [
    "from itertools import combinations, groupby\n",
    "\n",
    "# Read the input\n",
    "count, letters, to_select = int(input()), input().split(), int(input())\n",
    "\n",
    "# sort the letters so all a's are on left side\n",
    "letters = sorted(letters)\n",
    "\n",
    "# Find all possible combinations of to_select\n",
    "combinations_of_letters = list(combinations(letters, to_select))\n",
    "\n",
    "# find all which contain\n",
    "contain = len([c for c in combinations_of_letters if 'a' in c])\n",
    "\n",
    "# Print Results\n",
    "print(contain / len(combinations_of_letters))"
   ]
  },
  {
   "cell_type": "markdown",
   "id": "fa58efd9-25b8-4329-9220-d68a7726c025",
   "metadata": {},
   "source": [
    "##### Q.2.You are given a function f(x) = x^2. You are also given k lists. The ith list consists of Ni elements. You have to pick one element from each list so that the value from the equation below is maximized:\n",
    "\n",
    "##### S = ( f(X1) + f(X2) + ......+ f(Xk))%M\n",
    "\n",
    "##### Xi denotes the element picked from the ith list . Find the maximized value Smax obtained. % denotes the modulo operator.\n",
    "##### Note that you need to take exactly one element from each list, not necessarily the largest element. You add the squares of the chosen elements and perform the modulo operation. The maximum value that you can obtain, will be the answer to the problem."
   ]
  },
  {
   "cell_type": "code",
   "execution_count": null,
   "id": "45d51187-35ca-49a4-872f-19098990841c",
   "metadata": {},
   "outputs": [],
   "source": [
    "import itertools\n",
    "number_of_lists, modulus = map(int, input().split())\n",
    "lists_of_lists = []\n",
    "for i in range(0, number_of_lists):\n",
    "    new_list = list(map(int, input().split()))\n",
    "    del new_list[0]\n",
    "    lists_of_lists.append(new_list)\n",
    "def squared(element):\n",
    "    return element**2\n",
    "combs = list(itertools.product(*lists_of_lists))\n",
    "results = []\n",
    "for i in combs:\n",
    "    result1 = sum(map(squared, [a for a in i]))\n",
    "    result2 = result1 % modulus\n",
    "    results.append(result2)\n",
    "print(max(results))"
   ]
  },
  {
   "cell_type": "markdown",
   "id": "eb8e6500-2e12-46d5-bbbb-86f978209e69",
   "metadata": {},
   "source": [
    "##### Q.3. The calendar module allows you to output calendars and provides additional useful functions for them.\n",
    "##### class calendar.TextCalendar([firstweekday])\n",
    "##### This class can be used to generate plain text calendars.\n",
    "##### You are given a date. Your task is to find what the day is on that date."
   ]
  },
  {
   "cell_type": "code",
   "execution_count": null,
   "id": "41f8adda-0653-400d-a95f-1cd3d696aacd",
   "metadata": {},
   "outputs": [],
   "source": [
    "import calendar\n",
    "month, day, year = list(map(int,input().split()))\n",
    "ans = calendar.weekday(year, month, day)\n",
    "print((calendar.day_name[ans]).upper())"
   ]
  },
  {
   "cell_type": "markdown",
   "id": "c8a67598-91e4-4375-a1bd-dd6fc57d265e",
   "metadata": {},
   "source": [
    "##### Q.4. When users post an update on social media,such as a URL, image, status update etc., other users in their network are able to view this new post on their news feed. Users can also see exactly when the post was published, i.e, how many hours, minutes or seconds ago.\n",
    "\n",
    "##### Since sometimes posts are published and viewed in different time zones, this can be confusing. You are given two timestamps of one such post that a user can see on his newsfeed in the following format:\n",
    "\n",
    "##### Day dd Mon yyyy hh:mm:ss +xxxx\n",
    "\n",
    "##### Here +xxxx represents the time zone. Your task is to print the absolute difference (in seconds) between them."
   ]
  },
  {
   "cell_type": "code",
   "execution_count": null,
   "id": "6279e11d-3561-4621-bb4f-fa890402b0e3",
   "metadata": {},
   "outputs": [],
   "source": [
    "import math\n",
    "import os\n",
    "import random\n",
    "import re\n",
    "import sys\n",
    "from datetime import datetime\n",
    "# Complete the time_delta function below.\n",
    "def time_delta(t1, t2):\n",
    "    format_ = '%a %d %b %Y %H:%M:%S %z'\n",
    "    t1 = datetime.strptime(t1, format_)\n",
    "    t2 = datetime.strptime(t2, format_)\n",
    "    return str(int(abs((t1-t2).total_seconds()))) \n",
    "if __name__ == '__main__':\n",
    "    fptr = open(os.environ['OUTPUT_PATH'], 'w')\n",
    "\n",
    "    t = int(input())\n",
    "\n",
    "    for t_itr in range(t):\n",
    "        t1 = input()\n",
    "\n",
    "        t2 = input()\n",
    "\n",
    "        delta = time_delta(t1, t2)\n",
    "\n",
    "        fptr.write(delta + '\\n')\n",
    "\n",
    "    fptr.close()\n"
   ]
  },
  {
   "cell_type": "markdown",
   "id": "d78e474d-a90a-4acd-af59-ba3966ec7de2",
   "metadata": {},
   "source": [
    "##### Q.5.collections.Counter()\n",
    "##### A counter is a container that stores elements as dictionary keys, and their counts are stored as dictionary values.\n",
    "##### Raghu is a shoe shop owner. His shop has X number of shoes.\n",
    "##### He has a list containing the size of each shoe he has in his shop.\n",
    "##### There are N number of customers who are willing to pay xi amount of money only if they get the shoe of their desired size.\n",
    "##### Your task is to compute how much money Raghu earned."
   ]
  },
  {
   "cell_type": "code",
   "execution_count": null,
   "id": "c774d7a7-819a-4277-8d42-0d7a70440ace",
   "metadata": {},
   "outputs": [],
   "source": [
    "from collections import Counter\n",
    "x = int(input())\n",
    "y = Counter(map(int, input().split()))\n",
    "z = int(input())\n",
    "\n",
    "total = 0\n",
    "for i in range(z):\n",
    "    size, rate = map(int, input().split())\n",
    "    if y[size]: \n",
    "        y[size] -= 1\n",
    "        total += rate\n",
    "print(total)"
   ]
  }
 ],
 "metadata": {
  "kernelspec": {
   "display_name": "Python 3 (ipykernel)",
   "language": "python",
   "name": "python3"
  },
  "language_info": {
   "codemirror_mode": {
    "name": "ipython",
    "version": 3
   },
   "file_extension": ".py",
   "mimetype": "text/x-python",
   "name": "python",
   "nbconvert_exporter": "python",
   "pygments_lexer": "ipython3",
   "version": "3.12.7"
  }
 },
 "nbformat": 4,
 "nbformat_minor": 5
}
