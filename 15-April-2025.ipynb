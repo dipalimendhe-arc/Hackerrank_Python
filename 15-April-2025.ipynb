{
 "cells": [
  {
   "cell_type": "markdown",
   "id": "51c366fc-0382-4f85-badd-6d9ccba589c5",
   "metadata": {},
   "source": [
    "##### Q.1. You are given a 2-D array of size N X M.\n",
    "##### Your task is to find:\n",
    "##### 1. The mean along axis 1\n",
    "##### 2. The var along axis 0\n",
    "##### 3. The std along axis None"
   ]
  },
  {
   "cell_type": "code",
   "execution_count": null,
   "id": "94c05e28-ab13-4374-ab5e-f1a12e7bd00a",
   "metadata": {},
   "outputs": [],
   "source": [
    "import numpy\n",
    "N, M = map(int, input().split())\n",
    "A = numpy.array([list(map(int, input().split())) for n in range(N)])\n",
    "print(numpy.mean(A, axis = 1))\n",
    "print(numpy.var(A, axis = 0))\n",
    "print(numpy.round(numpy.std(A), 11))"
   ]
  },
  {
   "cell_type": "markdown",
   "id": "cc6c20b3-a5f1-495f-ac7a-2d2d8e60fe89",
   "metadata": {},
   "source": [
    "##### Q.2.You are given two arrays A and B. Both have dimensions of N X N.Your task is to compute their matrix product."
   ]
  },
  {
   "cell_type": "code",
   "execution_count": null,
   "id": "9544df2c-3c00-4ab8-9ee1-7eade4d1c68c",
   "metadata": {},
   "outputs": [],
   "source": [
    "import numpy as np\n",
    "n = int(input())\n",
    "a = np.array([list(map(int,input().split()))for _ in range(n)])\n",
    "b = np.array([list(map(int,input().split()))for _ in range(n)])\n",
    "print(np.dot(a,b))"
   ]
  },
  {
   "cell_type": "markdown",
   "id": "31f2a3f7-f077-4516-8e75-046400a3d652",
   "metadata": {},
   "source": [
    "##### Q.3.You are given two arrays: A and B.Your task is to compute their inner and outer product."
   ]
  },
  {
   "cell_type": "code",
   "execution_count": null,
   "id": "7b342248-12a3-4a11-8c48-9df3ca2dcaa2",
   "metadata": {},
   "outputs": [],
   "source": [
    "import numpy as np\n",
    "a = np.array(list(map(int,input().split())))\n",
    "b = np.array(list(map(int,input().split())))\n",
    "print(np.inner(a,b))\n",
    "print(np.outer(a,b))"
   ]
  },
  {
   "cell_type": "markdown",
   "id": "8b0ef0de-fd8c-42ea-8a56-46c6511a92b4",
   "metadata": {},
   "source": [
    "##### Q.4. You are given the coefficients of a polynomial P. Your task is to find the value of P at point x."
   ]
  },
  {
   "cell_type": "code",
   "execution_count": null,
   "id": "b73c07bf-a2bc-47d4-b950-e1a6a437af84",
   "metadata": {},
   "outputs": [],
   "source": [
    "import numpy as np\n",
    "P = list(map(float,input().split()))\n",
    "x = int(input())\n",
    "print(np.polyval(P,x))"
   ]
  },
  {
   "cell_type": "markdown",
   "id": "d11015e6-8ecc-4e15-8a5c-de321eafaa8b",
   "metadata": {},
   "source": [
    "##### Q.5.You are given a square matrix A with dimensions N X N.Your task is to find the determinant. Note: Round the answer to 2 places after the decimal."
   ]
  },
  {
   "cell_type": "code",
   "execution_count": null,
   "id": "fb0649c9-8433-4f47-b5a8-bac1f8c82cec",
   "metadata": {},
   "outputs": [],
   "source": [
    "import numpy as np\n",
    "n = int(input())\n",
    "a = np.array([list(map(float,input().split()))for _ in range(n)])\n",
    "print(\"{:.2}\".format(np.linalg.det(a)))"
   ]
  }
 ],
 "metadata": {
  "kernelspec": {
   "display_name": "Python 3 (ipykernel)",
   "language": "python",
   "name": "python3"
  },
  "language_info": {
   "codemirror_mode": {
    "name": "ipython",
    "version": 3
   },
   "file_extension": ".py",
   "mimetype": "text/x-python",
   "name": "python",
   "nbconvert_exporter": "python",
   "pygments_lexer": "ipython3",
   "version": "3.12.7"
  }
 },
 "nbformat": 4,
 "nbformat_minor": 5
}
