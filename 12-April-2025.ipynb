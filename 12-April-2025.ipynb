{
 "cells": [
  {
   "cell_type": "markdown",
   "id": "bad9f132-2e61-4f22-8217-106b623a5a13",
   "metadata": {},
   "source": [
    "##### Q.1. You are given a string and your task is to swap cases. In other words, convert all lowercase letters to uppercase letters and vice versa. .1.\n",
    "\n",
    "##### __For Example:__\n",
    "\n",
    "##### Www.HackerRank.com → wWW.hACKERrANK.COM\n",
    "##### Pythonist 2 → pYTHONIST 2 \n",
    "\n",
    "##### __Function Description__\n",
    "\n",
    "##### Complete the swap_case function in the editor below.\n",
    "##### swap_case has the following parameters:\n",
    "#####   * string s: the string to modify\n",
    "##### __Returns__\n",
    "\n",
    "#####   *string: the modified string\n"
   ]
  },
  {
   "cell_type": "code",
   "execution_count": null,
   "id": "c68e084c-8435-422f-a60d-ceff41a45e8b",
   "metadata": {},
   "outputs": [],
   "source": [
    "def swap_case(s):\n",
    "    string = \"\"\n",
    "    for i in s:\n",
    "        if i.isupper() == True:\n",
    "            string+=(i.lower())\n",
    "        else:\n",
    "            string+=(i.upper())\n",
    "    return string\n",
    "    \n",
    "\n",
    "if __name__ == '__main__':\n",
    "    s = input()\n",
    "    result = swap_case(s)\n",
    "    print(result)"
   ]
  },
  {
   "cell_type": "markdown",
   "id": "3092bddc-cb1d-4488-8c9d-7092159a94dd",
   "metadata": {},
   "source": [
    "##### Q.2.You are given a partial code that is used for generating the HackerRank Logo of variable thickness.\n",
    "##### Your task is to replace the blank (______) with rjust, ljust or center."
   ]
  },
  {
   "cell_type": "code",
   "execution_count": null,
   "id": "c00ae06a-ab6c-4c69-ac40-e00861e94c65",
   "metadata": {},
   "outputs": [],
   "source": [
    "thickness = int(input()) #This must be an odd number\n",
    "c = 'H'\n",
    "\n",
    "# Top Cone\n",
    "for i in range(thickness):\n",
    "    print((c * i).rjust(thickness - 1) + c + (c * i).ljust(thickness - 1))\n",
    "\n",
    "# Top Pillars\n",
    "for i in range(thickness + 1):\n",
    "    print((c * thickness).center(thickness * 2) + (c * thickness).center(thickness * 6))\n",
    "\n",
    "# Middle Belt\n",
    "for i in range((thickness + 1) // 2):\n",
    "    print((c * thickness * 5).center(thickness * 6))    \n",
    "\n",
    "# Bottom Pillars\n",
    "for i in range(thickness + 1):\n",
    "    print((c * thickness).center(thickness * 2) + (c * thickness).center(thickness * 6))    \n",
    "\n",
    "# Bottom Cone\n",
    "for i in range(thickness):\n",
    "    print(((c * (thickness - i - 1)).rjust(thickness) + c + (c * (thickness - i - 1)).ljust(thickness)).rjust(thickness * 6))"
   ]
  },
  {
   "cell_type": "markdown",
   "id": "632efa9d-33f7-4d05-9e0e-8f52172f712f",
   "metadata": {},
   "source": [
    "##### Q.3. Mr. Vincent works in a door mat manufacturing company. One day, he designed a new door mat with the following specifications:\n",
    "##### Mat size must be X. ( is an odd natural number, and  is  times .)\n",
    "##### The design should have 'WELCOME' written in the center.\n",
    "##### The design pattern should only use |, . and - characters."
   ]
  },
  {
   "cell_type": "code",
   "execution_count": null,
   "id": "6294c867-129a-47e3-a257-68d12ae0b5c0",
   "metadata": {},
   "outputs": [],
   "source": [
    "user_input = input().split()\n",
    "\n",
    "n,m = int(user_input[0]), int(user_input[1])\n",
    "\n",
    "s = 1\n",
    "\n",
    "for line in range(n+1):\n",
    "    if line < int(n/2):\n",
    "        print((\".|.\"*s).center(m, \"-\"))\n",
    "        s += 2\n",
    "    elif line == round(n/2):\n",
    "        print(\"WELCOME\".center(m, \"-\"))\n",
    "    elif line > int(n/2) and s > 1:\n",
    "        s -= 2\n",
    "        print((\".|.\"*s).center(m, \"-\"))"
   ]
  },
  {
   "cell_type": "markdown",
   "id": "b5eb09e1-ef25-4815-9517-6ab98d1163d8",
   "metadata": {},
   "source": [
    "##### Q.4.You are given a string  consisting only of digits 0-9, commas ,, and dots .\n",
    "##### Your task is to complete the regex_pattern defined below, which will be used to re.split() all of the , and . symbols in .\n",
    "##### It’s guaranteed that every comma and every dot in  is preceeded and followed by a digit."
   ]
  },
  {
   "cell_type": "code",
   "execution_count": null,
   "id": "ca3179a1-a8fc-4583-9de2-3979dd4d5bea",
   "metadata": {},
   "outputs": [],
   "source": [
    "regex_pattern = r\"[.,]+\"\n",
    "\n",
    "import re\n",
    "print(\"\\n\".join(re.split(regex_pattern, input())))"
   ]
  },
  {
   "cell_type": "markdown",
   "id": "54f0a414-dee0-4003-8228-ead261a9ae8f",
   "metadata": {},
   "source": [
    "##### Q.5.You are given two integer arrays of size N X P and M X P (N & M are rows, and P is the column). Your task is to concatenate the arrays along axis 0."
   ]
  },
  {
   "cell_type": "code",
   "execution_count": null,
   "id": "6d588169-b6fb-4e84-b49c-f786ba7e80b9",
   "metadata": {},
   "outputs": [],
   "source": [
    "import numpy\n",
    "n,m,p = map(int, input().split())\n",
    "arr1 = numpy.array([input().strip().split() for _ in range(n+m)], int)\n",
    "print(arr1)"
   ]
  }
 ],
 "metadata": {
  "kernelspec": {
   "display_name": "Python 3 (ipykernel)",
   "language": "python",
   "name": "python3"
  },
  "language_info": {
   "codemirror_mode": {
    "name": "ipython",
    "version": 3
   },
   "file_extension": ".py",
   "mimetype": "text/x-python",
   "name": "python",
   "nbconvert_exporter": "python",
   "pygments_lexer": "ipython3",
   "version": "3.12.7"
  }
 },
 "nbformat": 4,
 "nbformat_minor": 5
}
